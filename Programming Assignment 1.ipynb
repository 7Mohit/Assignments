{
 "cells": [
  {
   "cell_type": "markdown",
   "id": "9c3f09ed",
   "metadata": {},
   "source": [
    "# Programming Assignment 1"
   ]
  },
  {
   "cell_type": "code",
   "execution_count": 2,
   "id": "64d8412a",
   "metadata": {},
   "outputs": [
    {
     "name": "stdout",
     "output_type": "stream",
     "text": [
      "Hello Python\n"
     ]
    }
   ],
   "source": [
    "#1 Write a Python program to print \"Hello Python\"?\n",
    "\n",
    "print(\"Hello Python\")"
   ]
  },
  {
   "cell_type": "code",
   "execution_count": 4,
   "id": "2a8696e8",
   "metadata": {},
   "outputs": [
    {
     "name": "stdout",
     "output_type": "stream",
     "text": [
      "Enter the number-->1\n",
      "Enter the number-->2\n",
      "3\n",
      "0.5\n"
     ]
    }
   ],
   "source": [
    "#2 Write a Python program to do arithmetical operations addition and division.?\n",
    "\n",
    "a=int(input(\"Enter the number-->\"))\n",
    "b=int(input(\"Enter the number-->\"))\n",
    "\n",
    "print(a+b)\n",
    "print(a/b)"
   ]
  },
  {
   "cell_type": "code",
   "execution_count": 7,
   "id": "a81e16bb",
   "metadata": {},
   "outputs": [
    {
     "name": "stdout",
     "output_type": "stream",
     "text": [
      "Enter the base length-->20\n",
      "Enter the height length-->10\n",
      "Area of the triangle is 100.0\n"
     ]
    }
   ],
   "source": [
    "#3 Write a Python program to find the area of a triangle?\n",
    "\n",
    "b=int(input(\"Enter the base length-->\"))\n",
    "h=int(input(\"Enter the height length-->\"))\n",
    "\n",
    "a=(1/2)*b*h\n",
    "print(\"Area of the triangle is {}\".format(a))"
   ]
  },
  {
   "cell_type": "code",
   "execution_count": 13,
   "id": "e334633d",
   "metadata": {},
   "outputs": [
    {
     "name": "stdout",
     "output_type": "stream",
     "text": [
      "a= 20\n",
      "b= 10\n"
     ]
    }
   ],
   "source": [
    "#4 Write a Python program to swap two variables?\n",
    "\n",
    "a=10\n",
    "b=20\n",
    "c\n",
    "c,a,b= a,b,c\n",
    "\n",
    "print(\"a=\",a)\n",
    "print(\"b=\",b)"
   ]
  },
  {
   "cell_type": "code",
   "execution_count": 25,
   "id": "c0515fd1",
   "metadata": {},
   "outputs": [
    {
     "name": "stdout",
     "output_type": "stream",
     "text": [
      "3\n"
     ]
    }
   ],
   "source": [
    "#5 Write a Python program to generate a random number?\n",
    "\n",
    "import random\n",
    "#In case of a Dice there is a random number between 1 and 6\n",
    "\n",
    "print(random.randint(1,6))\n"
   ]
  }
 ],
 "metadata": {
  "kernelspec": {
   "display_name": "Python 3 (ipykernel)",
   "language": "python",
   "name": "python3"
  },
  "language_info": {
   "codemirror_mode": {
    "name": "ipython",
    "version": 3
   },
   "file_extension": ".py",
   "mimetype": "text/x-python",
   "name": "python",
   "nbconvert_exporter": "python",
   "pygments_lexer": "ipython3",
   "version": "3.9.7"
  }
 },
 "nbformat": 4,
 "nbformat_minor": 5
}
