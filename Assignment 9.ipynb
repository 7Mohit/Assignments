{
 "cells": [
  {
   "cell_type": "markdown",
   "id": "c0a91c95",
   "metadata": {},
   "source": [
    "# Assignment 9"
   ]
  },
  {
   "cell_type": "markdown",
   "id": "df7c3272",
   "metadata": {},
   "source": [
    "#1 To what does a relative path refer?\n",
    "\n",
    "    A path which is relative your currrent working directory i.e path according to the current location or directory. It is not taken from the root directory.\n",
    "    \n",
    "#2 What does an absolute path start with your operating system?\n",
    "\n",
    "    This path will begin at the home directory of your computer and will end with the file or directory that you wish to access. Absolute paths ensure that Python can find the exact file on your computer. Usually start with the C: drive\n",
    "    \n",
    "#3 What do the functions os.getcwd() and os.chdir() do?\n",
    "\n",
    "    os.getcwd()- This will return the current working directory of a process.\n",
    "    \n",
    "    os.chdir()- This is used to change the current working directory to the specified path.\n",
    "    \n",
    "#4 What are the . and .. folders?\n",
    "\n",
    "    . is the current directory and .. signifies the parent diectory. It makes things quicker at the command line as well so you don't need to type out full paths.\n",
    "    Eg: ..\\test.txt\n",
    "    \n",
    "#5 In C:\\bacon\\eggs\\spam.txt, which part is the dir name, and which part is the base name?\n",
    "\n",
    "    C:\\bacon\\eggs is the dir name \n",
    "    spam.txt is the base name\n",
    "    \n",
    "#6 What are the three “mode” arguments that can be passed to the open() function?\n",
    "\n",
    "    In open() function 'r' for read mode, 'w' for write mode, 'a' for append mode.\n",
    "    \n",
    "#7 What happens if an existing ﬁle is opened in write mode?\n",
    "\n",
    "    In write mode, already existing file is erased and completely overwritten.\n",
    "    \n",
    "#8 What is the difference between the read() and readlines() methods?\n",
    "\n",
    "    read() returns the ﬁle’s entire contents as a single string value from the pointer position to the last.\n",
    "    \n",
    "    readlines() returns a list of strings, where each string is a line from the ﬁle’s contents.\n",
    "    \n",
    "#9 What data structure does a shelf value resemble?\n",
    "    \n",
    "    a shelf value resembles a dictionary value; it has keys and values, along with keys() and values() methods that work similarly to the dictionary methods of the same names."
   ]
  }
 ],
 "metadata": {
  "kernelspec": {
   "display_name": "Python 3 (ipykernel)",
   "language": "python",
   "name": "python3"
  },
  "language_info": {
   "codemirror_mode": {
    "name": "ipython",
    "version": 3
   },
   "file_extension": ".py",
   "mimetype": "text/x-python",
   "name": "python",
   "nbconvert_exporter": "python",
   "pygments_lexer": "ipython3",
   "version": "3.9.7"
  }
 },
 "nbformat": 4,
 "nbformat_minor": 5
}
