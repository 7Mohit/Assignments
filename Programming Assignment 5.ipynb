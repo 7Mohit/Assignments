{
 "cells": [
  {
   "cell_type": "markdown",
   "id": "653b817b",
   "metadata": {},
   "source": [
    "# Programming Assignment 5"
   ]
  },
  {
   "cell_type": "code",
   "execution_count": 2,
   "id": "2c8efa3a",
   "metadata": {},
   "outputs": [
    {
     "name": "stdout",
     "output_type": "stream",
     "text": [
      "Enter the 1st number:4\n",
      "Enter the 2nd number:6\n",
      "The LCM is:  12\n"
     ]
    }
   ],
   "source": [
    "#1 Write a Python Program to Find LCM?\n",
    "\n",
    "n1=int(input(\"Enter the 1st number:\"))\n",
    "n2=int(input(\"Enter the 2nd number:\"))\n",
    "b=1\n",
    "a=2\n",
    "\n",
    "if n2>n1:\n",
    "    t=n1\n",
    "    n1=n2\n",
    "    n2=t\n",
    "while a>1:\n",
    "    a=n1*b\n",
    "    if a%n2==0:\n",
    "        break\n",
    "    else:\n",
    "        b=b+1\n",
    "print(\"The LCM is: \",a)      "
   ]
  },
  {
   "cell_type": "code",
   "execution_count": 4,
   "id": "bf141ba5",
   "metadata": {},
   "outputs": [
    {
     "name": "stdout",
     "output_type": "stream",
     "text": [
      "Enter the 1st number:54\n",
      "Enter the 2nd number:24\n",
      "the HCF is:  6\n"
     ]
    }
   ],
   "source": [
    "#2 Write a Python Program to Find HCF?\n",
    "\n",
    "n1=int(input(\"Enter the 1st number:\"))\n",
    "n2=int(input(\"Enter the 2nd number:\"))\n",
    "\n",
    "if n2>n1:\n",
    "    t=n1\n",
    "    n1=n2\n",
    "    n2=t\n",
    "for i in range(2,n1+1):\n",
    "    if n1%i==0 and n2%i==0:\n",
    "        hcf=i\n",
    "print(\"the HCF is: \",hcf)"
   ]
  },
  {
   "cell_type": "code",
   "execution_count": 6,
   "id": "f322bfd2",
   "metadata": {},
   "outputs": [
    {
     "name": "stdout",
     "output_type": "stream",
     "text": [
      "Enter the number:60\n",
      "The decimal value of 60 is:\n",
      "0b111100 in binary.\n",
      "0o74 in octal.\n",
      "0x3c in hexadecimal.\n"
     ]
    }
   ],
   "source": [
    "#3 Write a Python Program to Convert Decimal to Binary, Octal and Hexadecimal?\n",
    "\n",
    "n=int(input(\"Enter the number: \"))\n",
    "print(\"The decimal value of\",n , \"is:\")\n",
    "print(bin(n), \"in binary.\")\n",
    "print(oct(n), \"in octal.\")\n",
    "print(hex(n), \"in hexadecimal.\")\n"
   ]
  },
  {
   "cell_type": "code",
   "execution_count": 9,
   "id": "dffa85b2",
   "metadata": {},
   "outputs": [
    {
     "name": "stdout",
     "output_type": "stream",
     "text": [
      "Enter the character for ASCII values: A\n",
      "The ASCII value of  A is 65\n"
     ]
    }
   ],
   "source": [
    "#4 Write a Python Program To Find ASCII value of a character?\n",
    "\n",
    "n=input(\"Enter the character for ASCII values: \")\n",
    "\n",
    "print(\"The ASCII value of \",n,\"is\", ord(n))"
   ]
  },
  {
   "cell_type": "code",
   "execution_count": 3,
   "id": "8adb613a",
   "metadata": {},
   "outputs": [
    {
     "name": "stdout",
     "output_type": "stream",
     "text": [
      "Select the operation from the following: \n",
      " 1.Add \n",
      " 2.Subtract \n",
      " 3.Multiply \n",
      " 4.Divide \n",
      "4\n",
      "Enter the 1st number:10\n",
      "Enter the 2nd number:5\n",
      "10 / 5 = 2.0\n"
     ]
    }
   ],
   "source": [
    "#5 Write a Python Program to Make a Simple Calculator with 4 basic mathematical operations?\n",
    "\n",
    "o=int(input(\"Select the operation from the following: \\n 1.Add \\n 2.Subtract \\n 3.Multiply \\n 4.Divide \\n\"))\n",
    "n1=int(input(\"Enter the 1st number:\"))\n",
    "n2=int(input(\"Enter the 2nd number:\"))\n",
    "\n",
    "if o==1:\n",
    "    print(\"{} + {} = {}\".format(n1,n2,n1+n2))\n",
    "elif o==2:\n",
    "    print(\"{} - {} = {}\".format(n1,n2,n1-n2))\n",
    "elif o==3:\n",
    "    print(\"{} * {} = {}\".format(n1,n2,n1*n2))\n",
    "elif o==4:\n",
    "    print(\"{} / {} = {}\".format(n1,n2,n1/n2))\n",
    "\n",
    "    "
   ]
  }
 ],
 "metadata": {
  "kernelspec": {
   "display_name": "Python 3 (ipykernel)",
   "language": "python",
   "name": "python3"
  },
  "language_info": {
   "codemirror_mode": {
    "name": "ipython",
    "version": 3
   },
   "file_extension": ".py",
   "mimetype": "text/x-python",
   "name": "python",
   "nbconvert_exporter": "python",
   "pygments_lexer": "ipython3",
   "version": "3.9.7"
  }
 },
 "nbformat": 4,
 "nbformat_minor": 5
}
