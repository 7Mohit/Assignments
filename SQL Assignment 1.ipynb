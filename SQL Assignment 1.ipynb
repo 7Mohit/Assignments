{
 "cells": [
  {
   "cell_type": "code",
   "execution_count": 1,
   "id": "9d52da8a",
   "metadata": {},
   "outputs": [],
   "source": [
    "# Q-1. Write an SQL query to fetch “FIRST_NAME” from Worker table using the alias name as <WORKER_NAME>\n",
    "\n",
    "select FIRST_NAME as WORKER_NAME from Worker;"
   ]
  },
  {
   "cell_type": "code",
   "execution_count": null,
   "id": "3c1c80d6",
   "metadata": {},
   "outputs": [],
   "source": [
    "# Q-2. Write an SQL query to fetch unique values of DEPARTMENT from Worker table.\n",
    "\n",
    "Select distinct DEPARTMENT from Worker;"
   ]
  },
  {
   "cell_type": "code",
   "execution_count": null,
   "id": "4730422e",
   "metadata": {},
   "outputs": [],
   "source": [
    "# Q-3. Write an SQL query to show the last 5 record from a table.\n",
    "\n",
    "select * from sakila.actor(Table name) ORDER BY actor_id(column name) desc\n",
    "limit 5"
   ]
  }
 ],
 "metadata": {
  "kernelspec": {
   "display_name": "Python 3 (ipykernel)",
   "language": "python",
   "name": "python3"
  },
  "language_info": {
   "codemirror_mode": {
    "name": "ipython",
    "version": 3
   },
   "file_extension": ".py",
   "mimetype": "text/x-python",
   "name": "python",
   "nbconvert_exporter": "python",
   "pygments_lexer": "ipython3",
   "version": "3.9.7"
  }
 },
 "nbformat": 4,
 "nbformat_minor": 5
}
