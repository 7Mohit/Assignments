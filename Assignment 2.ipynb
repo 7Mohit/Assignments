{
 "cells": [
  {
   "cell_type": "markdown",
   "id": "96a02dc0",
   "metadata": {},
   "source": [
    "# Assignment 2"
   ]
  },
  {
   "cell_type": "markdown",
   "id": "0ce20537",
   "metadata": {},
   "source": [
    "1.What are the two values of the Boolean data type? How do you write them?\n",
    "    \n",
    "    #Boolean data type gives result in two values True and False. \n",
    "        Eg:\n",
    "        if 6>2:\n",
    "            a= True\n",
    "        else:\n",
    "            a= False\n",
    "        \n",
    "2. What are the three different types of Boolean operators?\n",
    "    \n",
    "    #The 3 types of Boolean operators are:\n",
    "    *AND\n",
    "    *OR\n",
    "    *not\n",
    "    \n",
    "3. Make a list of each Boolean operators truth tables (i.e. every possible combination of Boolean\n",
    "values for the operator and what it evaluate ).\n",
    "   \n",
    "   #Boolean Truth table\n",
    "   \n",
    "   Here, 1 is True\n",
    "         0 is False\n",
    "   AND\n",
    "   0 and 0= 0\n",
    "   0 and 1= 0\n",
    "   1 and 0= 0\n",
    "   1 and 1= 1\n",
    "   \n",
    "   OR\n",
    "   0 or 0= 0\n",
    "   0 or 1= 1\n",
    "   1 or 0= 1\n",
    "   1 or 1= 1\n",
    "   \n",
    "   Not\n",
    "   \n",
    "   not 0= 1\n",
    "   not 1= 0\n",
    "   \n",
    "   \n",
    "4. What are the values of the following expressions?\n",
    "(5 > 4) and (3 == 5)   #False\n",
    "\n",
    "not (5 > 4) #False\n",
    "\n",
    "(5 > 4) or (3 == 5) #True\n",
    "\n",
    "not ((5 > 4) or (3 == 5)) #False\n",
    "\n",
    "(True and True) and (True == False) #False\n",
    "\n",
    "(not False) or (not True) #True  \n",
    "\n",
    "\n",
    "5. What are the six comparison operators?\n",
    "    #The comparison operators are as follows:\n",
    "    1. equal to (==)\n",
    "    2. not equal to (!=)\n",
    "    3. greater than (>)\n",
    "    4. greater than or equal to(>=)\n",
    "    5. less than (<)\n",
    "    6. less than or equal to (<=)\n",
    "    \n",
    "    \n",
    "6.How do you tell the difference between the equal to and assignment operators?Describe a\n",
    "condition and when you would use one.\n",
    "    \n",
    "    # The equal to(==) operator is a comparison operator.\n",
    "      The assignment(=) operator is used to assign value to a variable.\n",
    "      \n",
    "      Eg:a=10 #assignment operator\n",
    "         \n",
    "         a==10 #Equal to operator gives boolean value\n",
    "         \n",
    "         \n",
    "       \n",
    "   \n",
    "   "
   ]
  },
  {
   "cell_type": "code",
   "execution_count": 1,
   "id": "ae2bffcc",
   "metadata": {},
   "outputs": [
    {
     "name": "stdout",
     "output_type": "stream",
     "text": [
      "ham\n",
      "spam\n",
      "spam\n"
     ]
    }
   ],
   "source": [
    "#7. Identify the three blocks in this code:\n",
    "spam = 0\n",
    "if spam == 10:\n",
    "    print('eggs') #block 1\n",
    "\n",
    "if spam > 5:\n",
    "    print('bacon') #block 2\n",
    "\n",
    "else:\n",
    "    print('ham')\n",
    "    print('spam')\n",
    "    print('spam') #block 3"
   ]
  },
  {
   "cell_type": "code",
   "execution_count": 7,
   "id": "60f9f7d3",
   "metadata": {},
   "outputs": [
    {
     "name": "stdout",
     "output_type": "stream",
     "text": [
      "Enter the value of spam=2\n",
      "Howdy\n"
     ]
    }
   ],
   "source": [
    "#8. Write code that prints Hello if 1 is stored in spam, prints Howdy if 2 is stored in spam, and prints\n",
    "#Greetings! if anything else is stored in spam.\n",
    "\n",
    "spam=int(input(\"Enter the value of spam=\"))\n",
    "if spam == 1:\n",
    "    print(\"Hello\")\n",
    "elif spam == 2:\n",
    "    print(\"Howdy\")\n",
    "else:\n",
    "    print(\"Greetings!\")"
   ]
  },
  {
   "cell_type": "markdown",
   "id": "9235c14c",
   "metadata": {},
   "source": [
    "9.If your programme is stuck in an endless loop, what keys you’ll press?\n",
    "    \n",
    "    # Ctrl + C\n",
    "    \n",
    "10. How can you tell the difference between break and continue?\n",
    "\n",
    "    #When break keyword is used, it will exit the loop. \n",
    "     In case of continue keyword, the current iteration that is running will be stopped, and it will proceed with the next iteration.\n",
    "     \n",
    "     \n",
    "11. In a for loop, what is the difference between range(10), range(0, 10), and range(0, 10, 1)?\n",
    "\n",
    "    #All range(10), range(0,10) and range(0,10,1) will behave similarly in the loop. Example given below:"
   ]
  },
  {
   "cell_type": "code",
   "execution_count": 21,
   "id": "96f7c224",
   "metadata": {},
   "outputs": [
    {
     "name": "stdout",
     "output_type": "stream",
     "text": [
      "0123456789\n",
      "0123456789\n",
      "0123456789"
     ]
    }
   ],
   "source": [
    "for i in range(0,10,1):\n",
    "    print(i,end='')\n",
    "\n",
    "print()\n",
    "    \n",
    "for i in range(0,10):\n",
    "    print(i,end='')\n",
    "\n",
    "print()\n",
    "    \n",
    "for i in range(10):\n",
    "    print(i,end='')"
   ]
  },
  {
   "cell_type": "code",
   "execution_count": 27,
   "id": "14cc9dfb",
   "metadata": {},
   "outputs": [
    {
     "name": "stdout",
     "output_type": "stream",
     "text": [
      "12345678910\n",
      "12345678910"
     ]
    }
   ],
   "source": [
    "#12. Write a short program that prints the numbers 1 to 10 using a for loop. Then write an equivalent\n",
    "#program that prints the numbers 1 to 10 using a while loop.\n",
    "\n",
    "for i in range(10):\n",
    "    print(i+1, end='')\n",
    "print()\n",
    "\n",
    "j=0   \n",
    "while j<10:\n",
    "    print(j+1, end='')\n",
    "    j=j+1\n"
   ]
  },
  {
   "cell_type": "markdown",
   "id": "b992b10d",
   "metadata": {},
   "source": [
    "#13. If you had a function named bacon() inside a module named spam, how would you call it after importing spam?\n",
    "\n",
    "    # import spam\n",
    "    \n",
    "      spam.bacon()\n",
    "\n"
   ]
  }
 ],
 "metadata": {
  "kernelspec": {
   "display_name": "Python 3 (ipykernel)",
   "language": "python",
   "name": "python3"
  },
  "language_info": {
   "codemirror_mode": {
    "name": "ipython",
    "version": 3
   },
   "file_extension": ".py",
   "mimetype": "text/x-python",
   "name": "python",
   "nbconvert_exporter": "python",
   "pygments_lexer": "ipython3",
   "version": "3.9.7"
  }
 },
 "nbformat": 4,
 "nbformat_minor": 5
}
