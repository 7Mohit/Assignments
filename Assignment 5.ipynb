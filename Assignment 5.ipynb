{
 "cells": [
  {
   "cell_type": "markdown",
   "id": "1254c25f",
   "metadata": {},
   "source": [
    "# Assignmnet 5"
   ]
  },
  {
   "cell_type": "code",
   "execution_count": 10,
   "id": "e243d2f6",
   "metadata": {},
   "outputs": [
    {
     "data": {
      "text/plain": [
       "{'foo': 42}"
      ]
     },
     "execution_count": 10,
     "metadata": {},
     "output_type": "execute_result"
    }
   ],
   "source": [
    "#1 What does an empty dictionary's code look like?\n",
    "\n",
    "    #dic={}\n",
    "    \n",
    "\n",
    "#2 What is the value of a dictionary value with the key 'foo' and the value 42?\n",
    "\n",
    "d={'foo': 42}\n",
    "d\n",
    "    "
   ]
  },
  {
   "cell_type": "code",
   "execution_count": 11,
   "id": "44c7129e",
   "metadata": {},
   "outputs": [
    {
     "data": {
      "text/plain": [
       "1"
      ]
     },
     "execution_count": 11,
     "metadata": {},
     "output_type": "execute_result"
    }
   ],
   "source": [
    "#3 What is the most significant distinction between a dictionary and a list?\n",
    "\n",
    "    #Dictionary contains a pair of key and value eg: d={\"a\":10}, whereas the list is a set of values eg: l=['a',2,10,5]\n",
    "    \n",
    "    \n",
    "#4 What happens if you try to access spam['foo'] if spam is {\"bar\":100}?    \n",
    "\n",
    "    #There will be an error as spam dictionary does not contain \"foo\".\n",
    "    \n",
    "#5 If a dictionary is stored in spam, what is the difference between the expressions 'cat' in spam and 'cat' in spam.keys()? \n",
    "\n",
    "spam={'cat': 1}\n",
    "spam['cat']"
   ]
  },
  {
   "cell_type": "code",
   "execution_count": 13,
   "id": "ff7cb24b",
   "metadata": {},
   "outputs": [
    {
     "data": {
      "text/plain": [
       "dict_keys(['cat'])"
      ]
     },
     "execution_count": 13,
     "metadata": {},
     "output_type": "execute_result"
    }
   ],
   "source": [
    "spam.keys()"
   ]
  },
  {
   "cell_type": "code",
   "execution_count": 16,
   "id": "f2cd4af9",
   "metadata": {},
   "outputs": [
    {
     "data": {
      "text/plain": [
       "1"
      ]
     },
     "execution_count": 16,
     "metadata": {},
     "output_type": "execute_result"
    }
   ],
   "source": [
    "#6 If a dictionary is stored in spam, what is the difference between the expressions 'cat' in spam and 'cat' in spam.values()?\n",
    "\n",
    "spam['cat']"
   ]
  },
  {
   "cell_type": "code",
   "execution_count": 15,
   "id": "d97fbd10",
   "metadata": {},
   "outputs": [
    {
     "data": {
      "text/plain": [
       "dict_values([1])"
      ]
     },
     "execution_count": 15,
     "metadata": {},
     "output_type": "execute_result"
    }
   ],
   "source": [
    "spam.values()"
   ]
  },
  {
   "cell_type": "markdown",
   "id": "3fd893a7",
   "metadata": {},
   "source": [
    "7 What is a shortcut for the following code?\n",
    "\n",
    "if 'color' not in spam:\n",
    "\n",
    "spam['color'] = 'black'\n",
    "\n",
    "spam['color']\n",
    "\n",
    "{spam[\"color\"]:\"black\" if 'color' not in spam} "
   ]
  },
  {
   "cell_type": "code",
   "execution_count": null,
   "id": "5a7d527e",
   "metadata": {},
   "outputs": [],
   "source": [
    "#8 How do you \"pretty print\" dictionary values using which module and function?\n",
    "\n",
    "    #The \"pprint\" module provides a capability to “pretty-print” arbitrary Python data structures in a form which can be used as input to the interpreter."
   ]
  }
 ],
 "metadata": {
  "kernelspec": {
   "display_name": "Python 3 (ipykernel)",
   "language": "python",
   "name": "python3"
  },
  "language_info": {
   "codemirror_mode": {
    "name": "ipython",
    "version": 3
   },
   "file_extension": ".py",
   "mimetype": "text/x-python",
   "name": "python",
   "nbconvert_exporter": "python",
   "pygments_lexer": "ipython3",
   "version": "3.9.7"
  }
 },
 "nbformat": 4,
 "nbformat_minor": 5
}
