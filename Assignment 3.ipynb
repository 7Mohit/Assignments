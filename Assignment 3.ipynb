{
 "cells": [
  {
   "cell_type": "markdown",
   "id": "af112814",
   "metadata": {},
   "source": [
    "# Assignment 3"
   ]
  },
  {
   "cell_type": "markdown",
   "id": "01d9e55a",
   "metadata": {},
   "source": [
    "1. Why are functions advantageous to have in your programs?\n",
    "\n",
    "    #Functions reduce the need for duplicate the code thus, making the program shorter, easier to read and edit.\n",
    "    \n",
    "\n",
    "2. When does the code in a function run: when it's specified or when it's called?\n",
    "\n",
    "    #First the fuction is imported and then it is called is when a function runs.\n",
    "    \n",
    "\n",
    "3. What statement creates a function?\n",
    "\n",
    "    #To create a function, use of def keyword. Eg: def hello():\n",
    "\n",
    "\n",
    "4. What is the difference between a function and a function call?\n",
    "\n",
    "    #The function is a procedure or a set of codes to achieve a particular result whereas the fuction call is using the function in a code to achieve a task.\n",
    "    \n",
    "\n",
    "5. How many global scopes are there in a Python program? How many local scopes?\n",
    "\n",
    "    #There is only 1 global scope in a Python program. Python has 1 local scope and 1 built in scope.\n",
    "    \n",
    "    \n",
    "6. What happens to variables in a local scope when the function call returns?\n",
    "\n",
    "    #When the fuction call returns succesfully than the variables are destroyed.\n",
    "    \n",
    "    \n",
    "7. What is the concept of a return value? Is it possible to have a return value in an expression?\n",
    "\n",
    "    #A return is a value that a function returns to the calling script or function when it completes its task. The return value can not be used outside the function thus in an expression return will not work.\n",
    "    \n",
    "    \n",
    "8. If a function does not have a return statement, what is the return value of a call to that function?\n",
    "\n",
    "    #Without the return statement the return value while calling the function will be None.\n",
    "    \n",
    "9. How do you make a function variable refer to the global variable?\n",
    "\n",
    "    #Use the global keyword to declare which variables are global.\n",
    "    \n",
    "    \n",
    "10. What is the data type of None?\n",
    "\n",
    "    #It is a data type of the class NoneType object\n",
    "    \n",
    "    \n",
    "11. What does the sentence import areallyourpetsnamederic do?\n",
    "\n",
    "    #imports a module/Function named areallyourpetsnamederic\n",
    "    \n",
    "    \n",
    "12. If you had a bacon() feature in a spam module, what would you call it after importing spam?\n",
    "\n",
    "    #spam.bacon()\n",
    "    \n",
    "    \n",
    "13. What can you do to save a programme from crashing if it encounters an error?\n",
    "\n",
    "    #Error handling can be used to notify the user of why the error occurred and gracefully exit the process that caused the error.\n",
    "    \n",
    "    \n",
    "14. What is the purpose of the try clause? What is the purpose of the except clause?\n",
    "\n",
    "    #These are keywords used for error handling.The try block allows you to test a block of code for errors. The except block enables you to handle the error with a user-defined response."
   ]
  }
 ],
 "metadata": {
  "kernelspec": {
   "display_name": "Python 3 (ipykernel)",
   "language": "python",
   "name": "python3"
  },
  "language_info": {
   "codemirror_mode": {
    "name": "ipython",
    "version": 3
   },
   "file_extension": ".py",
   "mimetype": "text/x-python",
   "name": "python",
   "nbconvert_exporter": "python",
   "pygments_lexer": "ipython3",
   "version": "3.9.7"
  }
 },
 "nbformat": 4,
 "nbformat_minor": 5
}
