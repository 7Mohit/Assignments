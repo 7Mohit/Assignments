{
 "cells": [
  {
   "cell_type": "markdown",
   "id": "934d6a8e",
   "metadata": {},
   "source": [
    "# Assignment 6"
   ]
  },
  {
   "cell_type": "code",
   "execution_count": 1,
   "id": "7c91d036",
   "metadata": {},
   "outputs": [
    {
     "data": {
      "text/plain": [
       "\"Mohit's car\""
      ]
     },
     "execution_count": 1,
     "metadata": {},
     "output_type": "execute_result"
    }
   ],
   "source": [
    "#1 What are escape characters, and how do you use them?\n",
    "\n",
    "    #To insert characters that are illegal in a string, use an escape character. An escape character is a backslash \\ followed by the character you want to insert.\n",
    "#Eg:\n",
    "str='Mohit\\'s car'\n",
    "str"
   ]
  },
  {
   "cell_type": "code",
   "execution_count": 8,
   "id": "a9034985",
   "metadata": {},
   "outputs": [
    {
     "name": "stdout",
     "output_type": "stream",
     "text": [
      "Lets type \t and \n",
      " to check\n"
     ]
    }
   ],
   "source": [
    "#2 What do the escape characters n and t stand for?\n",
    "\n",
    "    #\\n stands for vertical tab and \\t is for horizontal tab(next line).\n",
    "    \n",
    "#Eg:\n",
    "print(\"Lets type \\t and \\n to check\")"
   ]
  },
  {
   "cell_type": "code",
   "execution_count": 31,
   "id": "e716a9de",
   "metadata": {},
   "outputs": [
    {
     "name": "stdout",
     "output_type": "stream",
     "text": [
      "\\ is used\n"
     ]
    }
   ],
   "source": [
    "#3 What is the way to include backslash characters in a string?\n",
    "\n",
    "    #\"\\\\\" is used to include backlash charater\n",
    "\n",
    "str='\\\\ is used'\n",
    "print(str)"
   ]
  },
  {
   "cell_type": "code",
   "execution_count": 32,
   "id": "9b4b47cd",
   "metadata": {},
   "outputs": [
    {
     "data": {
      "text/plain": [
       "\"Howl's Moving Castle\""
      ]
     },
     "execution_count": 32,
     "metadata": {},
     "output_type": "execute_result"
    }
   ],
   "source": [
    "#4 The string \"Howl's Moving Castle\" is a correct value. Why isn't the single quote character in theword Howl's not escaped a problem?\n",
    "\n",
    "    #Because the string is inside double quotes and Howl's has a single quote.\n",
    "    \n",
    "s=\"Howl's Moving Castle\"\n",
    "s"
   ]
  },
  {
   "cell_type": "code",
   "execution_count": 73,
   "id": "5c1af72b",
   "metadata": {},
   "outputs": [],
   "source": [
    "#5 How do you write a string of newlines if you don't want to use the n character?\n",
    "\n",
    "    #We can use \\\\ or @\n"
   ]
  },
  {
   "cell_type": "code",
   "execution_count": 42,
   "id": "b60fb458",
   "metadata": {},
   "outputs": [
    {
     "data": {
      "text/plain": [
       "'e'"
      ]
     },
     "execution_count": 42,
     "metadata": {},
     "output_type": "execute_result"
    }
   ],
   "source": [
    "#6 What are the values of the given expressions?\n",
    "\n",
    "'Hello,world!'[1]"
   ]
  },
  {
   "cell_type": "code",
   "execution_count": 41,
   "id": "19726cf2",
   "metadata": {},
   "outputs": [
    {
     "data": {
      "text/plain": [
       "'Hello'"
      ]
     },
     "execution_count": 41,
     "metadata": {},
     "output_type": "execute_result"
    }
   ],
   "source": [
    "'Hello,world!'[0:5]"
   ]
  },
  {
   "cell_type": "code",
   "execution_count": 40,
   "id": "79d77eeb",
   "metadata": {},
   "outputs": [
    {
     "data": {
      "text/plain": [
       "'Hello'"
      ]
     },
     "execution_count": 40,
     "metadata": {},
     "output_type": "execute_result"
    }
   ],
   "source": [
    "'Hello,world!'[:5]"
   ]
  },
  {
   "cell_type": "code",
   "execution_count": 43,
   "id": "cd04eed3",
   "metadata": {},
   "outputs": [
    {
     "data": {
      "text/plain": [
       "'lo,world!'"
      ]
     },
     "execution_count": 43,
     "metadata": {},
     "output_type": "execute_result"
    }
   ],
   "source": [
    "'Hello,world!'[3:]"
   ]
  },
  {
   "cell_type": "code",
   "execution_count": 44,
   "id": "01d012ff",
   "metadata": {},
   "outputs": [
    {
     "data": {
      "text/plain": [
       "'HELLO'"
      ]
     },
     "execution_count": 44,
     "metadata": {},
     "output_type": "execute_result"
    }
   ],
   "source": [
    "#7 What are the values of the following expressions?\n",
    "\n",
    "'Hello'.upper()"
   ]
  },
  {
   "cell_type": "code",
   "execution_count": 45,
   "id": "b08c3be6",
   "metadata": {},
   "outputs": [
    {
     "data": {
      "text/plain": [
       "True"
      ]
     },
     "execution_count": 45,
     "metadata": {},
     "output_type": "execute_result"
    }
   ],
   "source": [
    "'Hello'.upper().isupper()"
   ]
  },
  {
   "cell_type": "code",
   "execution_count": 46,
   "id": "2a650f9b",
   "metadata": {},
   "outputs": [
    {
     "data": {
      "text/plain": [
       "False"
      ]
     },
     "execution_count": 46,
     "metadata": {},
     "output_type": "execute_result"
    }
   ],
   "source": [
    "'Hello'.upper().islower()"
   ]
  },
  {
   "cell_type": "code",
   "execution_count": 47,
   "id": "ee5c441a",
   "metadata": {},
   "outputs": [
    {
     "data": {
      "text/plain": [
       "['Remember,remember,the', 'fifth', 'of', 'July.']"
      ]
     },
     "execution_count": 47,
     "metadata": {},
     "output_type": "execute_result"
    }
   ],
   "source": [
    "#8 What are the values of the following expressions?\n",
    "\n",
    "'Remember,remember,the fifth of July.'.split()"
   ]
  },
  {
   "cell_type": "code",
   "execution_count": 49,
   "id": "a13b3ac2",
   "metadata": {},
   "outputs": [
    {
     "data": {
      "text/plain": [
       "'there-can-only-be-one.'"
      ]
     },
     "execution_count": 49,
     "metadata": {},
     "output_type": "execute_result"
    }
   ],
   "source": [
    "'-'.join('there can only be one.'.split())"
   ]
  },
  {
   "cell_type": "code",
   "execution_count": 72,
   "id": "6b0bac24",
   "metadata": {},
   "outputs": [
    {
     "data": {
      "text/plain": [
       "'Hello removing white spaces'"
      ]
     },
     "execution_count": 72,
     "metadata": {},
     "output_type": "execute_result"
    }
   ],
   "source": [
    "#9 What are the methods for right-justifying, left-justifying, and centering a string?\n",
    "\n",
    "    #.rjust(), .ljust() and center() are used for right-justifying, left-justifying, and centering a string respectively.\n",
    "    \n",
    "#Eg: s=\"Heading\" #s.rjust(100) s.ljust(100) s.center(100)\n",
    "    \n",
    "\n",
    "    \n",
    "#10 What is the best way to remove whitespace characters from the start or end?\n",
    "\n",
    "    #.strip()\n",
    "    \n",
    "s='     Hello removing white spaces  '\n",
    "a=s.strip()\n",
    "a"
   ]
  }
 ],
 "metadata": {
  "kernelspec": {
   "display_name": "Python 3 (ipykernel)",
   "language": "python",
   "name": "python3"
  },
  "language_info": {
   "codemirror_mode": {
    "name": "ipython",
    "version": 3
   },
   "file_extension": ".py",
   "mimetype": "text/x-python",
   "name": "python",
   "nbconvert_exporter": "python",
   "pygments_lexer": "ipython3",
   "version": "3.9.7"
  }
 },
 "nbformat": 4,
 "nbformat_minor": 5
}
