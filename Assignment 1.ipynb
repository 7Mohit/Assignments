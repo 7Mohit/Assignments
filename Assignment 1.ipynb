{
 "cells": [
  {
   "cell_type": "markdown",
   "id": "65305044",
   "metadata": {},
   "source": [
    "# Assignment 1 Python"
   ]
  },
  {
   "cell_type": "markdown",
   "id": "2c212999",
   "metadata": {},
   "source": [
    "1 . In the below elements which of them are values or an expression? eg:- values can be integer or string and expressions will be mathematical operators.\n",
    "\n",
    "    #Values: hello, -87.8, 6\n",
    "\n",
    "    Expressions:*, -, /, +\n",
    "\n",
    "\n",
    "2 . What is the difference between string and variable?\n",
    "  \n",
    "    #String: A set of character variable. Enclosed inside double or single quotes(\" \", ' ') eg: \"Python\"\n",
    "\n",
    "    Variable:These are symbolic representation of any value. Its type can be an integer, complex number, string etc.\n",
    "    \n",
    "   eg: a=\"Anaconda\" here a is string variable. b=9 here b is an integer variable\n",
    "\n",
    "\n",
    "3 . Describe three different data types.\n",
    "   \n",
    "    #Data types: Classification or categories of data items.Some types are given below:\n",
    "\n",
    "    *Integer: Value is represented by int. Contains positive or negative whole numbers. Eg: int a=500\n",
    "    \n",
    "    *String: Value represented by str. It is a set of characters and written inside double quotes. str s= \"Spyder\"\n",
    "    \n",
    "    *Complex Numbers: Value is represented by complex. Contains real and imaginary part. Eg: complex c= 5+6j\n",
    "    \n",
    "4 . What is an expression made up of? What do all expressions do?\n",
    "\n",
    "An expression is made up of combination of operators and operands.\n",
    "\n",
    "Expressions are interpreted to produce some value with the help of operators and operands.\n",
    "\n",
    "5 . This assignment statements, like spam = 10. What is the difference between an expression and a statement?\n",
    "   \n",
    "   \n",
    "    #spam=10\n",
    "    \n",
    "    spam=spam+1 #This is an expression.(leads to a value)\n",
    "    \n",
    "    print(spam) #This is a statement (Does what the statement says)\n",
    "    \n",
    " \n"
   ]
  },
  {
   "cell_type": "code",
   "execution_count": 2,
   "id": "a7178a76",
   "metadata": {},
   "outputs": [
    {
     "name": "stdout",
     "output_type": "stream",
     "text": [
      "22\n"
     ]
    }
   ],
   "source": [
    "#6 After running the following code, what does the variable bacon contain?\n",
    "\n",
    "bacon=22\n",
    "bacon+1\n",
    "print(bacon)"
   ]
  },
  {
   "cell_type": "code",
   "execution_count": 3,
   "id": "1c552fce",
   "metadata": {},
   "outputs": [
    {
     "name": "stdout",
     "output_type": "stream",
     "text": [
      "spamspamspam\n",
      "spamspamspam\n"
     ]
    }
   ],
   "source": [
    "#7 What should the values of the following two terms be?\n",
    "\n",
    "a='spam'+ 'spamspam'\n",
    "b='spam'*3\n",
    "print(a)\n",
    "print(b)"
   ]
  },
  {
   "cell_type": "markdown",
   "id": "e2fd1588",
   "metadata": {},
   "source": [
    "8. Why is eggs a valid variable name while 100 is invalid?\n",
    "\n",
    "    #A variable name cannot start with a numerical value thus, egg can be variable name and 100 can't be.\n",
    "\n",
    "9. What three functions can be used to get the integer, floating-point number, or string version of a value?\n",
    "\n",
    "    #The following functions can be used:\n",
    "    int() for Integer\n",
    "    float() for float\n",
    "    str() for String\n",
    "    \n"
   ]
  },
  {
   "cell_type": "code",
   "execution_count": 5,
   "id": "60ffdcbb",
   "metadata": {},
   "outputs": [
    {
     "data": {
      "text/plain": [
       "'I have eaten 99 burritos'"
      ]
     },
     "execution_count": 5,
     "metadata": {},
     "output_type": "execute_result"
    }
   ],
   "source": [
    "#10 Why does this expression cause an error? How can you fix it?\n",
    "\n",
    "    #('I have eaten'+ 99 +'burritos')This statement is wrong because you can't join an integer(99) and string variables\n",
    "\n",
    "'I have eaten '+ str(99) +' burritos' #Convert the integer value to string value"
   ]
  },
  {
   "cell_type": "code",
   "execution_count": null,
   "id": "8198244c",
   "metadata": {},
   "outputs": [],
   "source": []
  }
 ],
 "metadata": {
  "kernelspec": {
   "display_name": "Python 3 (ipykernel)",
   "language": "python",
   "name": "python3"
  },
  "language_info": {
   "codemirror_mode": {
    "name": "ipython",
    "version": 3
   },
   "file_extension": ".py",
   "mimetype": "text/x-python",
   "name": "python",
   "nbconvert_exporter": "python",
   "pygments_lexer": "ipython3",
   "version": "3.9.7"
  }
 },
 "nbformat": 4,
 "nbformat_minor": 5
}
