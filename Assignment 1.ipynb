{
 "cells": [
  {
   "cell_type": "markdown",
   "id": "65305044",
   "metadata": {},
   "source": [
    "# Assignment 1 Python"
   ]
  },
  {
   "cell_type": "markdown",
   "id": "2c212999",
   "metadata": {},
   "source": [
    "1- Values: hello, -87.8, 6\n",
    "   Expressions:*, -, /, +\n",
    "  \n",
    "  \n",
    "2- String: A set of character variable. eg: \"Python\"\n",
    "    vs\n",
    "   Variable:These are symbolic representation of any value. Its type can be an integer, complex number, string etc. \n",
    "   eg: a=\"Anaconda\" here a is string variable.\n",
    "   \n",
    "   \n",
    "3- Data types: Classification or categories of data items.Some types are given below:\n",
    "    *Integer: Value is represented by int. Contains positive or negative whole numbers. Eg: int a=500\n",
    "    *String: Value represented by str. It is a set of characters and written inside double quotes. str s= \"Spyder\"\n",
    "    *Complex Numbers: Value is represented by complex. Contains real and imaginary part. Eg: complex c= 5+6j\n",
    "\n",
    "4- An expression is made up of combination of operators and operands. \n",
    "   Expressions are interpreted to produce some value with the help of operators and operands.\n",
    "   \n",
    "   \n",
    "5- spam=10\n",
    "    \n",
    "    spam=spam+1 #This is an expression.(leads to a value)\n",
    "    print(spam) #This is a statement (Does what the statement says)\n",
    "    \n",
    " \n"
   ]
  },
  {
   "cell_type": "code",
   "execution_count": 2,
   "id": "a7178a76",
   "metadata": {},
   "outputs": [
    {
     "name": "stdout",
     "output_type": "stream",
     "text": [
      "22\n"
     ]
    }
   ],
   "source": [
    "#6\n",
    "bacon=22\n",
    "bacon+1\n",
    "print(bacon)"
   ]
  },
  {
   "cell_type": "code",
   "execution_count": 3,
   "id": "1c552fce",
   "metadata": {},
   "outputs": [
    {
     "name": "stdout",
     "output_type": "stream",
     "text": [
      "spamspamspam\n",
      "spamspamspam\n"
     ]
    }
   ],
   "source": [
    "#7\n",
    "a='spam'+ 'spamspam'\n",
    "b='spam'*3\n",
    "print(a)\n",
    "print(b)"
   ]
  },
  {
   "cell_type": "markdown",
   "id": "e2fd1588",
   "metadata": {},
   "source": [
    "8- A variable name cannot start with a numerical value thus, egg can be variable name and 100 can't be.\n",
    "\n",
    "9-  The following functions can be used:\n",
    "    int() for Integer\n",
    "    float() for float\n",
    "    str() for String\n",
    "    \n"
   ]
  },
  {
   "cell_type": "code",
   "execution_count": 5,
   "id": "60ffdcbb",
   "metadata": {},
   "outputs": [
    {
     "data": {
      "text/plain": [
       "'I have eaten 99 burritos'"
      ]
     },
     "execution_count": 5,
     "metadata": {},
     "output_type": "execute_result"
    }
   ],
   "source": [
    "#10\n",
    "#('I have eaten'+ 99 +'burritos')This statement is wrong because you can't join an integer(99) and string variables\n",
    "\n",
    "'I have eaten '+ str(99) +' burritos' #Convert the integer value to string value"
   ]
  },
  {
   "cell_type": "code",
   "execution_count": null,
   "id": "8198244c",
   "metadata": {},
   "outputs": [],
   "source": []
  }
 ],
 "metadata": {
  "kernelspec": {
   "display_name": "Python 3 (ipykernel)",
   "language": "python",
   "name": "python3"
  },
  "language_info": {
   "codemirror_mode": {
    "name": "ipython",
    "version": 3
   },
   "file_extension": ".py",
   "mimetype": "text/x-python",
   "name": "python",
   "nbconvert_exporter": "python",
   "pygments_lexer": "ipython3",
   "version": "3.9.7"
  }
 },
 "nbformat": 4,
 "nbformat_minor": 5
}
