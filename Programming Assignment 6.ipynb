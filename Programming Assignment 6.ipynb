{
 "cells": [
  {
   "cell_type": "markdown",
   "id": "e4e9a300",
   "metadata": {},
   "source": [
    "# Programming Assignment 6"
   ]
  },
  {
   "cell_type": "code",
   "execution_count": 10,
   "id": "f0d098b6",
   "metadata": {},
   "outputs": [
    {
     "name": "stdout",
     "output_type": "stream",
     "text": [
      "Fibonacci sequence:\n",
      "0\n",
      "1\n",
      "1\n",
      "2\n",
      "3\n",
      "5\n",
      "8\n",
      "13\n",
      "21\n",
      "34\n"
     ]
    }
   ],
   "source": [
    "#1 Write a Python Program to Display Fibonacci Sequence Using Recursion?\n",
    "\n",
    "def fibo(n):\n",
    "   if n <= 1:\n",
    "       return n\n",
    "   else:\n",
    "       return(fibo(n-1) + fibo(n-2))\n",
    "\n",
    "nterms = int(input(\"Enter the number of terms =\"))\n",
    "print(\"Fibonacci sequence:\")\n",
    "for i in range(nterms):\n",
    "    print(fibo(i))"
   ]
  },
  {
   "cell_type": "code",
   "execution_count": 11,
   "id": "b3890aee",
   "metadata": {},
   "outputs": [
    {
     "name": "stdout",
     "output_type": "stream",
     "text": [
      "Enter the number =5\n",
      "\n",
      "\n",
      "The factorial of 5 is 120\n"
     ]
    }
   ],
   "source": [
    "#2 Write a Python Program to Find Factorial of Number Using Recursion?\n",
    "\n",
    "def factorial(n):\n",
    "   if n == 1:\n",
    "       return n\n",
    "   else:\n",
    "       return n*factorial(n-1)\n",
    "\n",
    "num = int(input(\"Enter the number =\"))\n",
    "print(\"\\n\")\n",
    "\n",
    "if num < 0:\n",
    "   print(\"Sorry, factorial does not exist for negative numbers\")\n",
    "elif num == 0:\n",
    "   print(\"The factorial of 0 is 1\")\n",
    "else:\n",
    "   print(\"The factorial of\", num, \"is\", factorial(num))\n",
    "\n"
   ]
  },
  {
   "cell_type": "code",
   "execution_count": 7,
   "id": "d43c5ddd",
   "metadata": {},
   "outputs": [
    {
     "name": "stdout",
     "output_type": "stream",
     "text": [
      "Enter the height in meter: 1.7018\n",
      "Enter the weight in KG: 72\n",
      "Your BMI is  24.860820494641658\n",
      "Healthy! Keep up the good work!!\n"
     ]
    }
   ],
   "source": [
    "#3 Write a Python Program to calculate your Body Mass Index?\n",
    "\n",
    "h=float(input(\"Enter the height in meter: \"))\n",
    "w=float(input(\"Enter the weight in KG: \"))\n",
    "\n",
    "bmi=w/(h**2)\n",
    "\n",
    "print(\"Your BMI is \",bmi)\n",
    "\n",
    "if (bmi < 18.5):\n",
    "    print(\"underweight! Have more proteins and a better routine!!\")\n",
    "elif( bmi >= 18.5 and bmi < 24.9):\n",
    "    print(\"Healthy! Keep up the good work!!\")\n",
    "elif ( bmi >= 24.9 and bmi < 30):\n",
    "    print(\"overweight! Work harder!\")\n",
    "elif ( bmi >=30):\n",
    "    print(\"Suffering from Obesity! Burn more caloris!\")\n"
   ]
  },
  {
   "cell_type": "code",
   "execution_count": 6,
   "id": "673d2104",
   "metadata": {},
   "outputs": [
    {
     "name": "stdout",
     "output_type": "stream",
     "text": [
      "Enter the number whose natural log is to be found: 20\n",
      "The natural log of 20 is 2.995732273553991\n"
     ]
    }
   ],
   "source": [
    "#4 Write a Python Program to calculate the natural logarithm of any number?\n",
    "\n",
    "import math\n",
    "\n",
    "n=int(input(\"Enter the number whose natural log is to be found: \"))\n",
    "l=math.log(n)\n",
    "\n",
    "print(\"The natural log of {} is {}\".format(n,l))"
   ]
  },
  {
   "cell_type": "code",
   "execution_count": 1,
   "id": "be735d81",
   "metadata": {},
   "outputs": [
    {
     "name": "stdout",
     "output_type": "stream",
     "text": [
      "Enter the number sum you want to find:5\n",
      "The sum of cubes= 225\n"
     ]
    }
   ],
   "source": [
    "#5 Write a Python Program for cube sum of first n natural numbers?\n",
    "\n",
    "n=int(input(\"Enter the number sum you want to find:\"))\n",
    "s=0\n",
    "for i in range(1,n+1):\n",
    "    s=s+(i**3)\n",
    "print(\"The sum of cubes=\",s)"
   ]
  }
 ],
 "metadata": {
  "kernelspec": {
   "display_name": "Python 3 (ipykernel)",
   "language": "python",
   "name": "python3"
  },
  "language_info": {
   "codemirror_mode": {
    "name": "ipython",
    "version": 3
   },
   "file_extension": ".py",
   "mimetype": "text/x-python",
   "name": "python",
   "nbconvert_exporter": "python",
   "pygments_lexer": "ipython3",
   "version": "3.9.7"
  }
 },
 "nbformat": 4,
 "nbformat_minor": 5
}
