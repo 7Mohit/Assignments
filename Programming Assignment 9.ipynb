{
 "cells": [
  {
   "cell_type": "markdown",
   "id": "3b168971",
   "metadata": {},
   "source": [
    "# Programming Assignment 9"
   ]
  },
  {
   "cell_type": "code",
   "execution_count": 3,
   "id": "da47f44a",
   "metadata": {},
   "outputs": [
    {
     "name": "stdout",
     "output_type": "stream",
     "text": [
      "Enter the number to check for Disarium =175\n",
      "The number 175 is Disarium\n"
     ]
    }
   ],
   "source": [
    "# 1. Write a Python program to check if the given number is a Disarium Number?\n",
    "\n",
    "\n",
    "n=int(input(\"Enter the number to check for Disarium =\"))\n",
    "def len(nu):\n",
    "    len=0\n",
    "    while nu>0:\n",
    "        nu=nu//10\n",
    "        len=len+1\n",
    "    return len\n",
    "def calc(num):\n",
    "    l=len(num)\n",
    "    sum=0\n",
    "    rem=0\n",
    "    while(num > 0):    \n",
    "        rem = num%10    \n",
    "        sum = sum + int(rem**l)    \n",
    "        num = num//10   \n",
    "        l = l - 1    \n",
    "    return sum\n",
    "\n",
    "if calc(n)== n:\n",
    "    print(\"The number {} is Disarium\".format(n))\n",
    "else:\n",
    "    print(\"The number is not Disarium\")"
   ]
  },
  {
   "cell_type": "code",
   "execution_count": 5,
   "id": "66b5e76b",
   "metadata": {},
   "outputs": [
    {
     "name": "stdout",
     "output_type": "stream",
     "text": [
      "The number 1 is Disarium Number.\n",
      "The number 2 is Disarium Number.\n",
      "The number 3 is Disarium Number.\n",
      "The number 4 is Disarium Number.\n",
      "The number 5 is Disarium Number.\n",
      "The number 6 is Disarium Number.\n",
      "The number 7 is Disarium Number.\n",
      "The number 8 is Disarium Number.\n",
      "The number 9 is Disarium Number.\n",
      "The number 89 is Disarium Number.\n"
     ]
    }
   ],
   "source": [
    "# 2. Write a Python program to print all disarium numbers between 1 to 100?\n",
    "\n",
    "for i in range(1,100):\n",
    "    c=calc(i)\n",
    "    if c== i:\n",
    "        print(\"The number {} is Disarium Number.\".format(i))"
   ]
  },
  {
   "cell_type": "code",
   "execution_count": 6,
   "id": "225e937a",
   "metadata": {},
   "outputs": [
    {
     "name": "stdout",
     "output_type": "stream",
     "text": [
      "Enter the number to be checked =7\n",
      "7 is a happy number\n"
     ]
    }
   ],
   "source": [
    "# 3. Write a Python program to check if the given number is Happy Number?\n",
    "\n",
    "def isHappyNumber(num):    \n",
    "    rem = sum = 0\n",
    "    while(num > 0):    \n",
    "        rem = num%10   \n",
    "        sum = sum + (rem*rem)    \n",
    "        num = num//10  \n",
    "    return sum    \n",
    "        \n",
    "num =int(input(\"Enter the number to be checked =\"))    \n",
    "result = num\n",
    "     \n",
    "while(result != 1 and result != 4):    \n",
    "    result = isHappyNumber(result)    \n",
    "       \n",
    "if(result == 1):    \n",
    "    print(str(num) + \" is a happy number\")   \n",
    "    \n",
    "elif(result == 4):    \n",
    "    print(str(num) + \" is not a happy number\")   "
   ]
  },
  {
   "cell_type": "code",
   "execution_count": 7,
   "id": "c50afb3e",
   "metadata": {},
   "outputs": [
    {
     "name": "stdout",
     "output_type": "stream",
     "text": [
      "1 is a happy number\n",
      "7 is a happy number\n",
      "10 is a happy number\n",
      "13 is a happy number\n",
      "19 is a happy number\n",
      "23 is a happy number\n",
      "28 is a happy number\n",
      "31 is a happy number\n",
      "32 is a happy number\n",
      "44 is a happy number\n",
      "49 is a happy number\n",
      "68 is a happy number\n",
      "70 is a happy number\n",
      "79 is a happy number\n",
      "82 is a happy number\n",
      "86 is a happy number\n",
      "91 is a happy number\n",
      "94 is a happy number\n",
      "97 is a happy number\n"
     ]
    }
   ],
   "source": [
    "# 4. Write a Python program to print all happy numbers between 1 and 100?\n",
    "\n",
    "for i in range(1,100):\n",
    "    n=i\n",
    "    while(i!= 1 and i!= 4):\n",
    "        i= isHappyNumber(i)\n",
    "    \n",
    "    if(i == 1):    \n",
    "        print(\"{} is a happy number\".format(n))\n",
    "    "
   ]
  },
  {
   "cell_type": "code",
   "execution_count": 9,
   "id": "ec9cb82b",
   "metadata": {},
   "outputs": [
    {
     "name": "stdout",
     "output_type": "stream",
     "text": [
      "Enter the number to be checked =7\n",
      "7 is a harshad number\n"
     ]
    }
   ],
   "source": [
    "# 5. Write a Python program to determine whether the given number is a Harshad Number?\n",
    "\n",
    "num =int(input(\"Enter the number to be checked =\"))    \n",
    "rem = sum = 0;    \n",
    "         \n",
    "n = num;    \n",
    "     \n",
    "#Calculates sum of digits    \n",
    "while(num > 0):    \n",
    "    rem = num%10;    \n",
    "    sum = sum + rem;    \n",
    "    num = num//10;    \n",
    "        \n",
    "if(n%sum == 0):    \n",
    "    print(str(n) + \" is a harshad number\");    \n",
    "else:    \n",
    "    print(str(n) + \" is not a harshad number\");    "
   ]
  },
  {
   "cell_type": "code",
   "execution_count": 2,
   "id": "a00cb5d1",
   "metadata": {},
   "outputs": [
    {
     "name": "stdout",
     "output_type": "stream",
     "text": [
      "2\n",
      "6\n",
      "12\n",
      "20\n",
      "30\n",
      "42\n",
      "56\n",
      "72\n",
      "90\n"
     ]
    }
   ],
   "source": [
    "# 6. Write a Python program to print all pronic numbers between 1 and 100?\n",
    "n=0\n",
    "a=1\n",
    "b=2\n",
    "while n<100:\n",
    "    n=a*b\n",
    "    a=b\n",
    "    b=b+1\n",
    "    if n<100:\n",
    "        print(n)\n"
   ]
  }
 ],
 "metadata": {
  "kernelspec": {
   "display_name": "Python 3 (ipykernel)",
   "language": "python",
   "name": "python3"
  },
  "language_info": {
   "codemirror_mode": {
    "name": "ipython",
    "version": 3
   },
   "file_extension": ".py",
   "mimetype": "text/x-python",
   "name": "python",
   "nbconvert_exporter": "python",
   "pygments_lexer": "ipython3",
   "version": "3.9.7"
  }
 },
 "nbformat": 4,
 "nbformat_minor": 5
}
