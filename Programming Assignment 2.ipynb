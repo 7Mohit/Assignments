{
 "cells": [
  {
   "cell_type": "markdown",
   "id": "36bdb85c",
   "metadata": {},
   "source": [
    "# Programming Assignment 2"
   ]
  },
  {
   "cell_type": "code",
   "execution_count": 1,
   "id": "3d124ca2",
   "metadata": {},
   "outputs": [
    {
     "name": "stdout",
     "output_type": "stream",
     "text": [
      "Enter the value in KM to convert into miles-->10\n",
      "10 km = 6.21371 miles\n"
     ]
    }
   ],
   "source": [
    "#1 Write a Python program to convert kilometers to miles?\n",
    "\n",
    "k=int(input(\"Enter the value in KM to convert into miles-->\"))\n",
    "\n",
    "m=.621371*k\n",
    "\n",
    "print(\"{} km = {} miles\".format(k,m))"
   ]
  },
  {
   "cell_type": "code",
   "execution_count": 4,
   "id": "5a2ce611",
   "metadata": {},
   "outputs": [
    {
     "name": "stdout",
     "output_type": "stream",
     "text": [
      "Enter the value in Celsius to convert into Fahrenheit-->100\n",
      "100 Celsius = 212.0 Fahrenheit\n"
     ]
    }
   ],
   "source": [
    "#2 Write a Python program to convert Celsius to Fahrenheit?\n",
    "\n",
    "c=int(input(\"Enter the value in Celsius to convert into Fahrenheit-->\"))\n",
    "\n",
    "f= (c*9/5)+32\n",
    "print(\"{} Celsius = {} Fahrenheit\".format(c,f))"
   ]
  },
  {
   "cell_type": "code",
   "execution_count": 6,
   "id": "96c36d0f",
   "metadata": {},
   "outputs": [
    {
     "name": "stdout",
     "output_type": "stream",
     "text": [
      "Enter year: 2000\n",
      "Enter month: 3\n",
      "     March 2000\n",
      "Mo Tu We Th Fr Sa Su\n",
      "       1  2  3  4  5\n",
      " 6  7  8  9 10 11 12\n",
      "13 14 15 16 17 18 19\n",
      "20 21 22 23 24 25 26\n",
      "27 28 29 30 31\n",
      "\n"
     ]
    }
   ],
   "source": [
    "#3 Write a Python program to display calendar?\n",
    "\n",
    "import calendar\n",
    "\n",
    "y = int(input(\"Enter year: \"))\n",
    "m = int(input(\"Enter month: \"))\n",
    "\n",
    "print(calendar.month(y,m))\n"
   ]
  },
  {
   "cell_type": "code",
   "execution_count": 30,
   "id": "f2fa7eda",
   "metadata": {},
   "outputs": [
    {
     "name": "stdout",
     "output_type": "stream",
     "text": [
      "Enter the values in form of ax2 + bx +c\n",
      "Enter the value of a:5\n",
      "Enter the value of b:6\n",
      "Enter the value of c:7\n",
      "The results are (-14.999999999999998+25.495097567963924j) and (-15.000000000000002-25.495097567963924j)\n"
     ]
    }
   ],
   "source": [
    "#4 Write a Python program to solve quadratic equation?\n",
    "\n",
    "print(\"Enter the values in form of ax2 + bx +c\")\n",
    "a=int(input(\"Enter the value of a:\"))\n",
    "b=int(input(\"Enter the value of b:\"))\n",
    "c=int(input(\"Enter the value of c:\"))\n",
    "\n",
    "d=(b**2-4*a*c)\n",
    "\n",
    "r1=(-b+d**0.5)/2*a\n",
    "r2=(-b-d**0.5)/2*a\n",
    "\n",
    "print(\"The results are {} and {}\".format(r1,r2))\n"
   ]
  },
  {
   "cell_type": "code",
   "execution_count": 33,
   "id": "3d38c4f3",
   "metadata": {},
   "outputs": [
    {
     "name": "stdout",
     "output_type": "stream",
     "text": [
      "Enter the value of x:5\n",
      "Enter the value of y:6\n",
      "x= 6.0\n",
      "y= 5.0\n"
     ]
    }
   ],
   "source": [
    "#5 Write a Python program to swap two variables without temp variable?\n",
    "\n",
    "x=int(input(\"Enter the value of x:\"))\n",
    "y=int(input(\"Enter the value of y:\"))\n",
    "\n",
    "x=x*y\n",
    "y=x/y\n",
    "x=x/y\n",
    "\n",
    "print(\"x=\",x)\n",
    "print(\"y=\",y)"
   ]
  }
 ],
 "metadata": {
  "kernelspec": {
   "display_name": "Python 3 (ipykernel)",
   "language": "python",
   "name": "python3"
  },
  "language_info": {
   "codemirror_mode": {
    "name": "ipython",
    "version": 3
   },
   "file_extension": ".py",
   "mimetype": "text/x-python",
   "name": "python",
   "nbconvert_exporter": "python",
   "pygments_lexer": "ipython3",
   "version": "3.9.7"
  }
 },
 "nbformat": 4,
 "nbformat_minor": 5
}
