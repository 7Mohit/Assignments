{
 "cells": [
  {
   "cell_type": "markdown",
   "id": "510e5b27",
   "metadata": {},
   "source": [
    "# Programming Assignment 4"
   ]
  },
  {
   "cell_type": "code",
   "execution_count": 2,
   "id": "fff2bb95",
   "metadata": {},
   "outputs": [
    {
     "name": "stdout",
     "output_type": "stream",
     "text": [
      "Enter the number whose factorial is to be found: 5\n",
      "The factorial of the number is  120\n"
     ]
    }
   ],
   "source": [
    "#1 Write a Python Program to Find the Factorial of a Number?\n",
    "\n",
    "n=int(input(\"Enter the number whose factorial is to be found: \"))\n",
    "f=1\n",
    "for i in range(1,n+1):\n",
    "    f=f*i\n",
    "print(\"The factorial of the number is \",f)\n",
    "    "
   ]
  },
  {
   "cell_type": "code",
   "execution_count": 3,
   "id": "68101470",
   "metadata": {},
   "outputs": [
    {
     "name": "stdout",
     "output_type": "stream",
     "text": [
      "Enter the number whose multiplication table is to be printed: 5\n",
      "5 * 1 = 5\n",
      "5 * 2 = 10\n",
      "5 * 3 = 15\n",
      "5 * 4 = 20\n",
      "5 * 5 = 25\n",
      "5 * 6 = 30\n",
      "5 * 7 = 35\n",
      "5 * 8 = 40\n",
      "5 * 9 = 45\n",
      "5 * 10 = 50\n"
     ]
    }
   ],
   "source": [
    "#2 Write a Python Program to Display the multiplication Table?\n",
    "\n",
    "m=int(input(\"Enter the number whose multiplication table is to be printed: \"))\n",
    "for i in range(1,11):\n",
    "    c=m*i\n",
    "    print(\"{} * {} = {}\".format(m,i,c))"
   ]
  },
  {
   "cell_type": "code",
   "execution_count": 12,
   "id": "00c364a2",
   "metadata": {},
   "outputs": [
    {
     "name": "stdout",
     "output_type": "stream",
     "text": [
      "Enter the number of fibonnaci series:10\n",
      "0,1,1,2,3,5,8,13,21,34,"
     ]
    }
   ],
   "source": [
    "#3 Write a Python Program to Print the Fibonacci sequence?\n",
    "\n",
    "n=int(input(\"Enter the number of fibonnaci series:\"))\n",
    "b=0\n",
    "a=1\n",
    "for i in range(n):\n",
    "    print(b,end=',')\n",
    "    c=a\n",
    "    a=b\n",
    "    b=c\n",
    "    b=b+a\n",
    "    "
   ]
  },
  {
   "cell_type": "code",
   "execution_count": 18,
   "id": "a07eb0c9",
   "metadata": {},
   "outputs": [
    {
     "name": "stdout",
     "output_type": "stream",
     "text": [
      "Enter the number to be checked as Armstrong: 153\n",
      "The number 153 is Armstrong\n"
     ]
    }
   ],
   "source": [
    "#4 Write a Python Program to Check Armstrong Number?\n",
    "\n",
    "n=int(input(\"Enter the number to be checked as Armstrong: \"))\n",
    "s=0\n",
    "t=n\n",
    "while t>0:\n",
    "    d=t%10\n",
    "    s=s+(d**3)\n",
    "    t=t//10\n",
    "if n==s:\n",
    "    print(\"The number {} is Armstrong\".format(n))\n",
    "else:\n",
    "    print(\"The number {} is not Armstrong\".format(n))"
   ]
  },
  {
   "cell_type": "code",
   "execution_count": 20,
   "id": "3a41a941",
   "metadata": {},
   "outputs": [
    {
     "name": "stdout",
     "output_type": "stream",
     "text": [
      "Enter the number limit to be checked for Armstrong 1000\n",
      "1\n",
      "153\n",
      "370\n",
      "371\n",
      "407\n"
     ]
    }
   ],
   "source": [
    "#5 Write a Python Program to Find Armstrong Number in an Interval?\n",
    "\n",
    "n=int(input(\"Enter the number limit to be checked for Armstrong \"))\n",
    "\n",
    "for i in range(1,n):\n",
    "    s=0\n",
    "    t=i\n",
    "    while t>0:\n",
    "        d=t%10\n",
    "        s=s+(d**3)\n",
    "        t=t//10\n",
    "    if i==s:\n",
    "        print(i)"
   ]
  },
  {
   "cell_type": "code",
   "execution_count": 23,
   "id": "09196cdf",
   "metadata": {},
   "outputs": [
    {
     "name": "stdout",
     "output_type": "stream",
     "text": [
      "Enter the natural number for sum: 10\n",
      "55\n"
     ]
    }
   ],
   "source": [
    "#6 Write a Python Program to Find the Sum of Natural Numbers?\n",
    "\n",
    "n=int(input(\"Enter the natural number for sum: \"))\n",
    "sum=0\n",
    "for i in range(1,n+1):\n",
    "    sum=sum+i\n",
    "print(sum)\n"
   ]
  }
 ],
 "metadata": {
  "kernelspec": {
   "display_name": "Python 3 (ipykernel)",
   "language": "python",
   "name": "python3"
  },
  "language_info": {
   "codemirror_mode": {
    "name": "ipython",
    "version": 3
   },
   "file_extension": ".py",
   "mimetype": "text/x-python",
   "name": "python",
   "nbconvert_exporter": "python",
   "pygments_lexer": "ipython3",
   "version": "3.9.7"
  }
 },
 "nbformat": 4,
 "nbformat_minor": 5
}
